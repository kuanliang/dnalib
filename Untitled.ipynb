{
 "cells": [
  {
   "cell_type": "code",
   "execution_count": null,
   "metadata": {
    "collapsed": true
   },
   "outputs": [],
   "source": [
    "categories = ['alt.atheism', 'soc.religion.christian', 'comp.graphics', 'sci.med']\n",
    "from sklearn.datasets import fetch_20newsgroups\n",
    "twenty_train = fetch_20newsgroups(subset='train', categories=categories, shuffle=True, random_state=42)"
   ]
  },
  {
   "cell_type": "markdown",
   "metadata": {},
   "source": [
    "```math\n",
    "\n",
    "a+b=c\n",
    "\n",
    "```"
   ]
  },
  {
   "cell_type": "markdown",
   "metadata": {
    "collapsed": true
   },
   "source": [
    "\\begin{equation}\\label{2.1}\n",
    "\\begin{split}\n",
    "a =& b+c-d\\\\\n",
    "   &{}+e-f\\\\\n",
    "  =& g+h\\\\\n",
    "  =& i\n",
    "\\end{split}\n",
    "\\end{equation}"
   ]
  },
  {
   "cell_type": "code",
   "execution_count": null,
   "metadata": {
    "collapsed": false
   },
   "outputs": [],
   "source": [
    "type(twenty_train.data)"
   ]
  },
  {
   "cell_type": "code",
   "execution_count": null,
   "metadata": {
    "collapsed": false
   },
   "outputs": [],
   "source": [
    "twenty_train.data[0]"
   ]
  },
  {
   "cell_type": "code",
   "execution_count": null,
   "metadata": {
    "collapsed": true
   },
   "outputs": [],
   "source": [
    "test = ['atcgatcgatcg']"
   ]
  },
  {
   "cell_type": "code",
   "execution_count": null,
   "metadata": {
    "collapsed": true
   },
   "outputs": [],
   "source": [
    "from sklearn.feature_extraction.text import CountVectorizer"
   ]
  },
  {
   "cell_type": "code",
   "execution_count": null,
   "metadata": {
    "collapsed": false
   },
   "outputs": [],
   "source": [
    "char_vecctorizer = CountVectorizer(analyzer='char', ngram_range=(8,8))"
   ]
  },
  {
   "cell_type": "code",
   "execution_count": null,
   "metadata": {
    "collapsed": false
   },
   "outputs": [],
   "source": [
    "test = char_vecctorizer.fit_transform(test)"
   ]
  },
  {
   "cell_type": "code",
   "execution_count": null,
   "metadata": {
    "collapsed": false
   },
   "outputs": [],
   "source": [
    "test"
   ]
  },
  {
   "cell_type": "code",
   "execution_count": null,
   "metadata": {
    "collapsed": false
   },
   "outputs": [],
   "source": [
    "char_vecctorizer.get_feature_names()"
   ]
  },
  {
   "cell_type": "code",
   "execution_count": null,
   "metadata": {
    "collapsed": false
   },
   "outputs": [],
   "source": [
    "char_vecctorizer.get_params()"
   ]
  },
  {
   "cell_type": "code",
   "execution_count": null,
   "metadata": {
    "collapsed": false
   },
   "outputs": [],
   "source": [
    "!ls"
   ]
  },
  {
   "cell_type": "code",
   "execution_count": null,
   "metadata": {
    "collapsed": false
   },
   "outputs": [],
   "source": [
    "import dnalib"
   ]
  },
  {
   "cell_type": "code",
   "execution_count": null,
   "metadata": {
    "collapsed": true
   },
   "outputs": [],
   "source": [
    "from dnalib import read_fasta"
   ]
  },
  {
   "cell_type": "code",
   "execution_count": null,
   "metadata": {
    "collapsed": true
   },
   "outputs": [],
   "source": [
    "fasta_list = read_fasta('./RDPClassifier_16S_trainsetNo16_rawtrainingdata/trainset16_022016.fa')"
   ]
  },
  {
   "cell_type": "code",
   "execution_count": null,
   "metadata": {
    "collapsed": false
   },
   "outputs": [],
   "source": [
    "len(fasta_list)"
   ]
  },
  {
   "cell_type": "code",
   "execution_count": null,
   "metadata": {
    "collapsed": true
   },
   "outputs": [],
   "source": [
    "from dnalib import vectorize_fasta"
   ]
  },
  {
   "cell_type": "code",
   "execution_count": null,
   "metadata": {
    "collapsed": false
   },
   "outputs": [],
   "source": [
    "mer8, features = vectorize_fasta(fasta_list)"
   ]
  },
  {
   "cell_type": "code",
   "execution_count": null,
   "metadata": {
    "collapsed": true
   },
   "outputs": [],
   "source": []
  },
  {
   "cell_type": "code",
   "execution_count": null,
   "metadata": {
    "collapsed": true
   },
   "outputs": [],
   "source": [
    "from Bio import SeqIO"
   ]
  },
  {
   "cell_type": "code",
   "execution_count": null,
   "metadata": {
    "collapsed": false
   },
   "outputs": [],
   "source": [
    "!ls"
   ]
  },
  {
   "cell_type": "code",
   "execution_count": null,
   "metadata": {
    "collapsed": true
   },
   "outputs": [],
   "source": [
    "handle = open('./RDPClassifier_16S_trainsetNo16_rawtrainingdata/trainset16_022016.fa', \"rU\")"
   ]
  },
  {
   "cell_type": "code",
   "execution_count": null,
   "metadata": {
    "collapsed": true
   },
   "outputs": [],
   "source": [
    "fasta_list = []"
   ]
  },
  {
   "cell_type": "code",
   "execution_count": null,
   "metadata": {
    "collapsed": false
   },
   "outputs": [],
   "source": [
    "for record in SeqIO.parse(handle, \"fasta\"):\n",
    "    fasta_list.append(str(record.seq))"
   ]
  },
  {
   "cell_type": "code",
   "execution_count": null,
   "metadata": {
    "collapsed": false
   },
   "outputs": [],
   "source": [
    "len(fasta_list)"
   ]
  },
  {
   "cell_type": "code",
   "execution_count": null,
   "metadata": {
    "collapsed": false
   },
   "outputs": [],
   "source": [
    "test = str(record.seq)"
   ]
  },
  {
   "cell_type": "code",
   "execution_count": null,
   "metadata": {
    "collapsed": false
   },
   "outputs": [],
   "source": [
    "test"
   ]
  },
  {
   "cell_type": "code",
   "execution_count": null,
   "metadata": {
    "collapsed": false
   },
   "outputs": [],
   "source": [
    "test = [str(test)]"
   ]
  },
  {
   "cell_type": "code",
   "execution_count": null,
   "metadata": {
    "collapsed": true
   },
   "outputs": [],
   "source": [
    "from sklearn.feature_extraction.text import CountVectorizer"
   ]
  },
  {
   "cell_type": "code",
   "execution_count": null,
   "metadata": {
    "collapsed": true
   },
   "outputs": [],
   "source": [
    "char_vectorizer = CountVectorizer(analyzer='char', ngram_range=(8,8))"
   ]
  },
  {
   "cell_type": "code",
   "execution_count": null,
   "metadata": {
    "collapsed": false
   },
   "outputs": [],
   "source": [
    "mer8 = char_vectorizer.fit_transform(fasta_list)"
   ]
  },
  {
   "cell_type": "code",
   "execution_count": null,
   "metadata": {
    "collapsed": false
   },
   "outputs": [],
   "source": [
    "len(char_vectorizer.get_feature_names())"
   ]
  },
  {
   "cell_type": "code",
   "execution_count": null,
   "metadata": {
    "collapsed": true
   },
   "outputs": [],
   "source": [
    "testString = 'atcgatc'"
   ]
  },
  {
   "cell_type": "code",
   "execution_count": null,
   "metadata": {
    "collapsed": true
   },
   "outputs": [],
   "source": [
    "import re"
   ]
  },
  {
   "cell_type": "code",
   "execution_count": null,
   "metadata": {
    "collapsed": true
   },
   "outputs": [],
   "source": [
    "import re\n",
    "def only_atcg(test_string):\n",
    "    match = re.match(\"^[atcg]*$\", test_string)\n",
    "    print match\n",
    "    #return match is not None\n",
    "    return match is not None"
   ]
  },
  {
   "cell_type": "code",
   "execution_count": null,
   "metadata": {
    "collapsed": false
   },
   "outputs": [],
   "source": [
    "'atcg' is not None"
   ]
  },
  {
   "cell_type": "code",
   "execution_count": null,
   "metadata": {
    "collapsed": false
   },
   "outputs": [],
   "source": [
    "only_atcg('cnatcg')"
   ]
  },
  {
   "cell_type": "code",
   "execution_count": null,
   "metadata": {
    "collapsed": false
   },
   "outputs": [],
   "source": [
    "filtered_feature = [mer8 for mer8 in char_vectorizer.get_feature_names() if only_atcg(mer8)]"
   ]
  },
  {
   "cell_type": "code",
   "execution_count": null,
   "metadata": {
    "collapsed": false
   },
   "outputs": [],
   "source": [
    "char_vectorizer.fixed_vocabulary_"
   ]
  },
  {
   "cell_type": "code",
   "execution_count": null,
   "metadata": {
    "collapsed": false
   },
   "outputs": [],
   "source": [
    "len(test[0])"
   ]
  },
  {
   "cell_type": "code",
   "execution_count": null,
   "metadata": {
    "collapsed": false
   },
   "outputs": [],
   "source": [
    "mer8_array = mer8.toarray()"
   ]
  },
  {
   "cell_type": "code",
   "execution_count": null,
   "metadata": {
    "collapsed": true
   },
   "outputs": [],
   "source": [
    "import numpy as np"
   ]
  },
  {
   "cell_type": "code",
   "execution_count": null,
   "metadata": {
    "collapsed": false
   },
   "outputs": [],
   "source": [
    "testArray = np.array(filtered_feature)"
   ]
  },
  {
   "cell_type": "code",
   "execution_count": null,
   "metadata": {
    "collapsed": false
   },
   "outputs": [],
   "source": [
    "testArray == ''"
   ]
  },
  {
   "cell_type": "code",
   "execution_count": null,
   "metadata": {
    "collapsed": false
   },
   "outputs": [],
   "source": [
    "mer8_array"
   ]
  },
  {
   "cell_type": "code",
   "execution_count": null,
   "metadata": {
    "collapsed": false
   },
   "outputs": [],
   "source": [
    "mer8_array.shape"
   ]
  },
  {
   "cell_type": "code",
   "execution_count": null,
   "metadata": {
    "collapsed": false
   },
   "outputs": [],
   "source": [
    "np.array([True if only_atcg(x) else False for x in char_vectorizer.get_feature_names()]).sum()"
   ]
  },
  {
   "cell_type": "code",
   "execution_count": null,
   "metadata": {
    "collapsed": true
   },
   "outputs": [],
   "source": [
    "test = mer8_array[:,0:10]"
   ]
  },
  {
   "cell_type": "code",
   "execution_count": null,
   "metadata": {
    "collapsed": false
   },
   "outputs": [],
   "source": [
    "test.shape"
   ]
  },
  {
   "cell_type": "code",
   "execution_count": null,
   "metadata": {
    "collapsed": false
   },
   "outputs": [],
   "source": [
    "test[:,np.array([True, False, True, True, False, True, True, False, True, False])].shape"
   ]
  },
  {
   "cell_type": "code",
   "execution_count": null,
   "metadata": {
    "collapsed": true
   },
   "outputs": [],
   "source": [
    "mer8_filtered = mer8_array[:, np.array([True if only_atcg(x) else False for x in char_vectorizer.get_feature_names()])]"
   ]
  },
  {
   "cell_type": "code",
   "execution_count": null,
   "metadata": {
    "collapsed": false
   },
   "outputs": [],
   "source": [
    "mer8_filtered.shape"
   ]
  },
  {
   "cell_type": "code",
   "execution_count": null,
   "metadata": {
    "collapsed": false
   },
   "outputs": [],
   "source": [
    "feature_filtered = np.array(char_vectorizer.get_feature_names())[np.array([True if only_atcg(x) else False for x in char_vectorizer.get_feature_names()])]"
   ]
  },
  {
   "cell_type": "code",
   "execution_count": null,
   "metadata": {
    "collapsed": false,
    "scrolled": true
   },
   "outputs": [],
   "source": [
    "len(feature_filtered)"
   ]
  },
  {
   "cell_type": "code",
   "execution_count": null,
   "metadata": {
    "collapsed": false
   },
   "outputs": [],
   "source": [
    "feature_filtered"
   ]
  },
  {
   "cell_type": "code",
   "execution_count": null,
   "metadata": {
    "collapsed": false
   },
   "outputs": [],
   "source": [
    "mer8_array[[True if only_atcg(x) else False for x in char_vectorizer.get_feature_names()]]"
   ]
  },
  {
   "cell_type": "code",
   "execution_count": null,
   "metadata": {
    "collapsed": true
   },
   "outputs": [],
   "source": [
    "from dnalib import read_fasta"
   ]
  },
  {
   "cell_type": "code",
   "execution_count": null,
   "metadata": {
    "collapsed": false
   },
   "outputs": [],
   "source": [
    "mer8List, labelList = read_fasta('./RDPClassifier_16S_trainsetNo16_rawtrainingdata/trainset16_022016.fa')"
   ]
  },
  {
   "cell_type": "code",
   "execution_count": null,
   "metadata": {
    "collapsed": false
   },
   "outputs": [],
   "source": [
    "len(mer8List)"
   ]
  },
  {
   "cell_type": "code",
   "execution_count": null,
   "metadata": {
    "collapsed": false
   },
   "outputs": [],
   "source": [
    "len(labelList)"
   ]
  },
  {
   "cell_type": "code",
   "execution_count": null,
   "metadata": {
    "collapsed": true
   },
   "outputs": [],
   "source": [
    "import numpy as np"
   ]
  },
  {
   "cell_type": "code",
   "execution_count": null,
   "metadata": {
    "collapsed": false
   },
   "outputs": [],
   "source": [
    "np.array(labelList)"
   ]
  },
  {
   "cell_type": "code",
   "execution_count": null,
   "metadata": {
    "collapsed": false
   },
   "outputs": [],
   "source": [
    "import numpy as np\n",
    "X = np.random.randint(2, size=(6, 100))\n",
    "Y = np.array([1,2,3,4,4,5])"
   ]
  },
  {
   "cell_type": "code",
   "execution_count": null,
   "metadata": {
    "collapsed": false
   },
   "outputs": [],
   "source": [
    "from sklearn.naive_bayes import BernoulliNB"
   ]
  },
  {
   "cell_type": "code",
   "execution_count": null,
   "metadata": {
    "collapsed": false
   },
   "outputs": [],
   "source": [
    "clf = BernoulliNB()"
   ]
  },
  {
   "cell_type": "code",
   "execution_count": null,
   "metadata": {
    "collapsed": false
   },
   "outputs": [],
   "source": [
    "clf.fit(X, Y)"
   ]
  },
  {
   "cell_type": "code",
   "execution_count": null,
   "metadata": {
    "collapsed": false
   },
   "outputs": [],
   "source": [
    "predict = clf.predict(X)"
   ]
  },
  {
   "cell_type": "code",
   "execution_count": null,
   "metadata": {
    "collapsed": true
   },
   "outputs": [],
   "source": [
    "from sklearn.metrics import classification_report"
   ]
  },
  {
   "cell_type": "code",
   "execution_count": null,
   "metadata": {
    "collapsed": false
   },
   "outputs": [],
   "source": [
    "print classification_report(Y, predict)"
   ]
  },
  {
   "cell_type": "code",
   "execution_count": null,
   "metadata": {
    "collapsed": false
   },
   "outputs": [],
   "source": [
    "X"
   ]
  },
  {
   "cell_type": "code",
   "execution_count": null,
   "metadata": {
    "collapsed": true
   },
   "outputs": [],
   "source": []
  },
  {
   "cell_type": "code",
   "execution_count": null,
   "metadata": {
    "collapsed": true
   },
   "outputs": [],
   "source": [
    "from dnalib import vectorize_fasta"
   ]
  },
  {
   "cell_type": "code",
   "execution_count": null,
   "metadata": {
    "collapsed": false
   },
   "outputs": [],
   "source": [
    "mer8Filtered, featureFiltered = vectorize_fasta(mer8List)"
   ]
  },
  {
   "cell_type": "code",
   "execution_count": null,
   "metadata": {
    "collapsed": false
   },
   "outputs": [],
   "source": [
    "mer8Filtered.shape"
   ]
  },
  {
   "cell_type": "code",
   "execution_count": null,
   "metadata": {
    "collapsed": false
   },
   "outputs": [],
   "source": [
    "featureFiltered.shape"
   ]
  },
  {
   "cell_type": "code",
   "execution_count": null,
   "metadata": {
    "collapsed": false
   },
   "outputs": [],
   "source": [
    "mer8Filtered"
   ]
  },
  {
   "cell_type": "code",
   "execution_count": null,
   "metadata": {
    "collapsed": false
   },
   "outputs": [],
   "source": [
    "mer8Filtered.shape"
   ]
  },
  {
   "cell_type": "code",
   "execution_count": null,
   "metadata": {
    "collapsed": true
   },
   "outputs": [],
   "source": [
    "from Bio import SeqIO"
   ]
  },
  {
   "cell_type": "code",
   "execution_count": null,
   "metadata": {
    "collapsed": false
   },
   "outputs": [],
   "source": [
    "label_list = []\n",
    "handle = open('./RDPClassifier_16S_trainsetNo16_rawtrainingdata/trainset16_022016.fa', \"rU\")\n",
    "for record in SeqIO.parse(handle, \"fasta\"):\n",
    "    label_list.append(record.description.split('\\t')[1].split(';')[-1])"
   ]
  },
  {
   "cell_type": "code",
   "execution_count": null,
   "metadata": {
    "collapsed": true
   },
   "outputs": [],
   "source": [
    "import numpy as np"
   ]
  },
  {
   "cell_type": "code",
   "execution_count": null,
   "metadata": {
    "collapsed": false
   },
   "outputs": [],
   "source": [
    "genus_count = {}\n",
    "for genus in set(label_list):\n",
    "    print '{}:{}'.format(genus, label_list.count(genus))\n",
    "    genus_count[genus] = label_list.count(genus)"
   ]
  },
  {
   "cell_type": "code",
   "execution_count": null,
   "metadata": {
    "collapsed": false
   },
   "outputs": [],
   "source": [
    "count = 0\n",
    "for key, value in genus_count.iteritems():\n",
    "    if value == 1:\n",
    "        count += 1"
   ]
  },
  {
   "cell_type": "code",
   "execution_count": null,
   "metadata": {
    "collapsed": false
   },
   "outputs": [],
   "source": [
    "print count"
   ]
  },
  {
   "cell_type": "code",
   "execution_count": null,
   "metadata": {
    "collapsed": false
   },
   "outputs": [],
   "source": [
    "len(genus_count.keys())"
   ]
  },
  {
   "cell_type": "code",
   "execution_count": null,
   "metadata": {
    "collapsed": false
   },
   "outputs": [],
   "source": [
    "record.description.split('\\t')[1].split(';')[-1]"
   ]
  },
  {
   "cell_type": "code",
   "execution_count": 1,
   "metadata": {
    "collapsed": true
   },
   "outputs": [],
   "source": [
    "from dnalib import read_fasta"
   ]
  },
  {
   "cell_type": "code",
   "execution_count": 4,
   "metadata": {
    "collapsed": true
   },
   "outputs": [],
   "source": [
    "mer8, labelList = read_fasta('./RDPClassifier_16S_trainsetNo16_rawtrainingdata/trainset16_022016.fa')"
   ]
  },
  {
   "cell_type": "code",
   "execution_count": 5,
   "metadata": {
    "collapsed": false
   },
   "outputs": [
    {
     "data": {
      "text/plain": [
       "'gaacgctggcggcgtgcttaacacatgcaagtcgaacggaaaggtctcttcggagatactcgagtggcgaacgggtgagtaacacgtgggtaatctgccctgcacatcgggataagcctgggaaactgggtctaataccgaataggacctcgaggcgcatgccttgtggtggaaagcttttgcggtgtgggatgggcccgcggcctatcagcttgttggtggggtgacggcctaccaaggcgacgacgggtagccggcctgagagggtgtccggccacactgggactgagatacggcccagactcctacgggaggcagcagtggggaatattgcacaatgggcgcaagcctgatgcagcgacgccgcgtgggggatgacggncttcgggttgtaaacctctttcagcagggacgaagcgcaagtgacggtacctgcagaagaagcaccggccaactacgtgccagcagccgcggtaatacgtagggtgcgagcgttgtccggaattactgggcgtaaagagctcgtaggtggtttgtcgcgttgttcgtgaaaaccgggggcttaaccctcggcgtgcgggcgatacgggcagactggagtactgcaggggagactggaattcctggtgtagcggtggaatgcgcagatatcaggaggaacaccggtggcgaaggcgggtctctgggcagtaactgacgctgaggagcgaaagcgtggggagcgaacaggattagataccctggtagtccacgccgtaaacggtgggtactaggtgtgggtttccttccttgggatccgtgccgtagctaacgcattaagtaccccgcctggggagtacggccgcaaggctaaaactcaaaggaattgacgggggcccgcacaagcggcggagcatgtggattaattcgatgcaacgcgaagaaccttacctgggtttgacatgcacaggacgccggcagagatgtcggttcccttgtggcctgtgtgcaggtggtgcatggctgtcgtcagctcgtgtcgtgagatgttgggttaagtcccgcaacgagcgcaacccttgtctcatgttgccagcgggtaatgccggggactcgtgagagactgccggggtcaactcggaggaaggtggggatgacgtcaagtcatcatgccccttatgtccagggcttcacacatgctacaatggccggtacaaagggctgcgatgccgcaaggttaagcgaatccttttaaagccggtctcagttcggatcggggtctgcaactcgaccccgtgaagtcggagtcgctagtaatcgcagatcagcaacgctgcggtgaatacgttcccgggccttgtacacaccgcccgtcacgtcatgaaagtcggtaacacccgaagccagtggcctaacctttgggagggagctgtcgaaggtgggatcggcgattgggacgaagtcgt'"
      ]
     },
     "execution_count": 5,
     "metadata": {},
     "output_type": "execute_result"
    }
   ],
   "source": [
    "mer8[0]"
   ]
  },
  {
   "cell_type": "code",
   "execution_count": 7,
   "metadata": {
    "collapsed": false
   },
   "outputs": [
    {
     "data": {
      "text/plain": [
       "'Mycobacterium'"
      ]
     },
     "execution_count": 7,
     "metadata": {},
     "output_type": "execute_result"
    }
   ],
   "source": [
    "labelList[0]"
   ]
  },
  {
   "cell_type": "code",
   "execution_count": 8,
   "metadata": {
    "collapsed": true
   },
   "outputs": [],
   "source": [
    "from dnalib import vectorize_fasta"
   ]
  },
  {
   "cell_type": "code",
   "execution_count": 9,
   "metadata": {
    "collapsed": true
   },
   "outputs": [],
   "source": [
    "mer8Array, featureArray = vectorize_fasta(mer8)"
   ]
  },
  {
   "cell_type": "code",
   "execution_count": 11,
   "metadata": {
    "collapsed": false
   },
   "outputs": [
    {
     "data": {
      "text/plain": [
       "(12093, 65407)"
      ]
     },
     "execution_count": 11,
     "metadata": {},
     "output_type": "execute_result"
    }
   ],
   "source": [
    "mer8Array.shape"
   ]
  },
  {
   "cell_type": "code",
   "execution_count": 13,
   "metadata": {
    "collapsed": false
   },
   "outputs": [
    {
     "data": {
      "text/plain": [
       "(65407,)"
      ]
     },
     "execution_count": 13,
     "metadata": {},
     "output_type": "execute_result"
    }
   ],
   "source": [
    "featureArray.shape"
   ]
  },
  {
   "cell_type": "code",
   "execution_count": 14,
   "metadata": {
    "collapsed": true
   },
   "outputs": [],
   "source": [
    "from sklearn.naive_bayes import BernoulliNB"
   ]
  },
  {
   "cell_type": "code",
   "execution_count": 27,
   "metadata": {
    "collapsed": true
   },
   "outputs": [],
   "source": [
    "import numpy as np"
   ]
  },
  {
   "cell_type": "code",
   "execution_count": 36,
   "metadata": {
    "collapsed": false
   },
   "outputs": [],
   "source": [
    "classPrior = np.array([0.1 for genus in set(labelList)])"
   ]
  },
  {
   "cell_type": "code",
   "execution_count": 37,
   "metadata": {
    "collapsed": true
   },
   "outputs": [],
   "source": [
    "clf = BernoulliNB(class_prior=classPrior)"
   ]
  },
  {
   "cell_type": "code",
   "execution_count": 38,
   "metadata": {
    "collapsed": false
   },
   "outputs": [
    {
     "data": {
      "text/plain": [
       "array([u'aaaaaaaa', u'aaaaaaac', u'aaaaaaag', ..., u'tttttttc',\n",
       "       u'tttttttg', u'tttttttt'], \n",
       "      dtype='<U8')"
      ]
     },
     "execution_count": 38,
     "metadata": {},
     "output_type": "execute_result"
    }
   ],
   "source": [
    "featureArray"
   ]
  },
  {
   "cell_type": "code",
   "execution_count": 39,
   "metadata": {
    "collapsed": false
   },
   "outputs": [
    {
     "data": {
      "text/plain": [
       "BernoulliNB(alpha=1.0, binarize=0.0,\n",
       "      class_prior=array([ 0.1,  0.1, ...,  0.1,  0.1]), fit_prior=True)"
      ]
     },
     "execution_count": 39,
     "metadata": {},
     "output_type": "execute_result"
    }
   ],
   "source": [
    "clf.fit(mer8Array, labelList)"
   ]
  },
  {
   "cell_type": "code",
   "execution_count": 40,
   "metadata": {
    "collapsed": true
   },
   "outputs": [],
   "source": [
    "predict = clf.predict(mer8Array)"
   ]
  },
  {
   "cell_type": "code",
   "execution_count": 41,
   "metadata": {
    "collapsed": false
   },
   "outputs": [
    {
     "data": {
      "text/plain": [
       "array(['Mycobacterium', 'Vibrio', 'Mycobacterium', ..., 'Pseudomonas',\n",
       "       'Arthrobacter', 'Enterococcus'], \n",
       "      dtype='|S38')"
      ]
     },
     "execution_count": 41,
     "metadata": {},
     "output_type": "execute_result"
    }
   ],
   "source": [
    "predict"
   ]
  },
  {
   "cell_type": "code",
   "execution_count": 46,
   "metadata": {
    "collapsed": true
   },
   "outputs": [],
   "source": [
    "from sklearn.metrics import accuracy_score"
   ]
  },
  {
   "cell_type": "code",
   "execution_count": 47,
   "metadata": {
    "collapsed": false
   },
   "outputs": [
    {
     "name": "stdout",
     "output_type": "stream",
     "text": [
      "0.522699082114\n"
     ]
    }
   ],
   "source": [
    "print accuracy_score(predict, labelList)"
   ]
  },
  {
   "cell_type": "code",
   "execution_count": 21,
   "metadata": {
    "collapsed": false
   },
   "outputs": [
    {
     "data": {
      "text/plain": [
       "['Mycobacterium',\n",
       " 'Vibrio',\n",
       " 'Mycobacterium',\n",
       " 'Acetobacter',\n",
       " 'Couchioplanes',\n",
       " 'Nocardioides',\n",
       " 'Shewanella',\n",
       " 'Lentzea',\n",
       " 'Citrobacter',\n",
       " 'Gp2',\n",
       " 'Kribbella',\n",
       " 'Clostridium sensu stricto',\n",
       " 'Mycobacterium',\n",
       " 'Saccharopolyspora',\n",
       " 'Pseudonocardia',\n",
       " 'Vibrio',\n",
       " 'Williamsia',\n",
       " 'Nonomuraea',\n",
       " 'Ruegeria',\n",
       " 'Verrucosispora',\n",
       " 'Acholeplasma',\n",
       " 'Rhodovulum',\n",
       " 'Rhodobacter',\n",
       " 'Acidiphilium',\n",
       " 'Bacillus',\n",
       " 'Deinococcus',\n",
       " 'Pseudoalteromonas',\n",
       " 'Armatimonas/Armatimonadetes_gp1',\n",
       " 'Natrialba',\n",
       " 'Streptomyces',\n",
       " 'Bacillus',\n",
       " 'Sphingomonas',\n",
       " 'Gluconobacter',\n",
       " 'Salmonella',\n",
       " 'Lechevalieria',\n",
       " 'Roseomonas',\n",
       " 'Pseudomonas',\n",
       " 'Streptophyta',\n",
       " 'Methanobacterium',\n",
       " 'Croceicoccus',\n",
       " 'Shewanella',\n",
       " 'Prevotella',\n",
       " 'Sphingobacterium',\n",
       " 'Pelagicoccus',\n",
       " 'Corallococcus',\n",
       " 'Glycomyces',\n",
       " 'Actinomadura',\n",
       " 'Glycomyces',\n",
       " 'Micromonospora',\n",
       " 'Amphibacillus',\n",
       " 'Dokdonella',\n",
       " 'Deinococcus',\n",
       " 'Alteromonas',\n",
       " 'Cohnella',\n",
       " 'Halomonas',\n",
       " 'Gp15',\n",
       " '\"Candidatus Korarchaeum\"',\n",
       " 'Armatimonadetes_gp4',\n",
       " 'Armatimonadetes_gp5',\n",
       " 'Parcubacteria_genera_incertae_sedis',\n",
       " 'Parcubacteria_genera_incertae_sedis',\n",
       " 'Parcubacteria_genera_incertae_sedis',\n",
       " 'Microgenomates_genera_incertae_sedis',\n",
       " 'Microgenomates_genera_incertae_sedis',\n",
       " 'Microgenomates_genera_incertae_sedis',\n",
       " 'Microgenomates_genera_incertae_sedis',\n",
       " 'Saccharibacteria_genera_incertae_sedis',\n",
       " 'Saccharibacteria_genera_incertae_sedis',\n",
       " 'Saccharibacteria_genera_incertae_sedis',\n",
       " 'Saccharibacteria_genera_incertae_sedis',\n",
       " 'Mycobacterium',\n",
       " 'Massilia',\n",
       " 'Methanolobus',\n",
       " 'Corynebacterium',\n",
       " 'Bacillus',\n",
       " 'Lactobacillus',\n",
       " 'Virgibacillus',\n",
       " 'Collimonas',\n",
       " 'Marinomonas',\n",
       " 'Parcubacteria_genera_incertae_sedis',\n",
       " 'Parcubacteria_genera_incertae_sedis',\n",
       " 'Parcubacteria_genera_incertae_sedis',\n",
       " 'Parcubacteria_genera_incertae_sedis',\n",
       " 'Parcubacteria_genera_incertae_sedis',\n",
       " 'Parcubacteria_genera_incertae_sedis',\n",
       " 'Parcubacteria_genera_incertae_sedis',\n",
       " 'Parcubacteria_genera_incertae_sedis',\n",
       " 'Clostridium sensu stricto',\n",
       " 'Treponema',\n",
       " 'Jeotgalicoccus',\n",
       " 'Peptoniphilus',\n",
       " 'Arenimonas',\n",
       " 'Sporolactobacillaceae_incertae_sedis',\n",
       " 'Sporolactobacillaceae_incertae_sedis',\n",
       " 'Labrenzia',\n",
       " 'Parcubacteria_genera_incertae_sedis',\n",
       " 'WPS-1_genera_incertae_sedis',\n",
       " 'Chlorobaculum',\n",
       " 'Mannheimia',\n",
       " 'Atribacteria_genera_incertae_sedis',\n",
       " 'Atribacteria_genera_incertae_sedis',\n",
       " 'Tumebacillus',\n",
       " 'Sphingorhabdus',\n",
       " 'Flavobacterium',\n",
       " 'Sphingomonas',\n",
       " 'Vogesella',\n",
       " 'Mycoplasma',\n",
       " 'Armatimonas/Armatimonadetes_gp1',\n",
       " 'Gp10',\n",
       " 'Zobellia',\n",
       " 'Anoxybacillus',\n",
       " 'Vagococcus',\n",
       " 'Mycobacterium',\n",
       " 'Rheinheimera',\n",
       " 'Cellulophaga',\n",
       " 'Clostridium sensu stricto',\n",
       " 'Comamonas',\n",
       " 'Flavobacterium',\n",
       " 'Rheinheimera',\n",
       " 'Staphylococcus',\n",
       " 'Stella',\n",
       " 'Devosia',\n",
       " 'Arsenicicoccus',\n",
       " 'Reinekea',\n",
       " 'Beijerinckia',\n",
       " 'Psychrobacter',\n",
       " 'Streptomyces',\n",
       " 'Armatimonadetes_gp7',\n",
       " 'Microgenomates_genera_incertae_sedis',\n",
       " 'Saccharibacteria_genera_incertae_sedis',\n",
       " 'Saccharibacteria_genera_incertae_sedis',\n",
       " 'Saccharibacteria_genera_incertae_sedis',\n",
       " 'Acidovorax',\n",
       " 'Lactobacillus',\n",
       " 'Brevibacterium',\n",
       " 'Rathayibacter',\n",
       " 'Clostridium sensu stricto',\n",
       " 'Thermus',\n",
       " 'GpIX',\n",
       " 'Lactobacillus',\n",
       " 'Glycomyces',\n",
       " 'Aeromonas',\n",
       " 'Mycobacterium',\n",
       " 'Streptosporangium',\n",
       " 'Dysgonomonas',\n",
       " 'GpI',\n",
       " 'Streptomyces',\n",
       " 'Streptomyces',\n",
       " 'Streptomyces',\n",
       " 'Streptomyces',\n",
       " 'Streptomyces',\n",
       " 'Streptomyces',\n",
       " 'Saprospira',\n",
       " 'Diapherotrites Incertae Sedis AR10',\n",
       " 'Rhizobacter',\n",
       " 'Mycoplasma',\n",
       " 'Candidatus Nanosalina',\n",
       " 'Salinicoccus',\n",
       " 'Bacillus',\n",
       " 'Zunongwangia',\n",
       " 'Peptoniphilus',\n",
       " 'Microlunatus',\n",
       " 'Armatimonadetes_gp2',\n",
       " 'Streptophyta',\n",
       " 'Methanobacterium',\n",
       " 'Gp1',\n",
       " 'Streptophyta',\n",
       " 'Streptophyta',\n",
       " 'Cryptomonadaceae',\n",
       " 'Sporolactobacillus',\n",
       " 'Spartobacteria_genera_incertae_sedis',\n",
       " 'Hafnia',\n",
       " 'Roseiflexus',\n",
       " 'Roseiflexus',\n",
       " 'Jiangella',\n",
       " 'Burkholderia',\n",
       " 'Lewinella',\n",
       " 'Salegentibacter',\n",
       " 'Lishizhenia',\n",
       " 'Gluconobacter',\n",
       " 'Bifidobacterium',\n",
       " 'Brucella',\n",
       " 'Mucilaginibacter',\n",
       " 'Corynebacterium',\n",
       " 'Gp4',\n",
       " 'Gp3',\n",
       " 'Gp10',\n",
       " 'Subdivision3_genera_incertae_sedis',\n",
       " 'Chthonomonas/Armatimonadetes_gp3',\n",
       " 'Chthonomonas/Armatimonadetes_gp3',\n",
       " 'Armatimonas/Armatimonadetes_gp1',\n",
       " 'Gp9',\n",
       " 'Gp1',\n",
       " '\"Candidatus Korarchaeum\"',\n",
       " 'Armatimonadetes_gp4',\n",
       " 'Gp6',\n",
       " 'Gp7',\n",
       " 'Gp10',\n",
       " 'Armatimonadetes_gp2',\n",
       " 'Subdivision5_genera_incertae_sedis',\n",
       " 'Gp25',\n",
       " 'Gp5',\n",
       " 'Gp23',\n",
       " 'Armatimonadetes_gp4',\n",
       " 'Gp1',\n",
       " 'Armatimonadetes_gp4',\n",
       " 'Serratia',\n",
       " 'Cobetia',\n",
       " 'Halorubrum',\n",
       " 'Lachnospiracea_incertae_sedis',\n",
       " 'Clostridium sensu stricto',\n",
       " 'Lactobacillus',\n",
       " 'Methanothermococcus',\n",
       " 'Romboutsia',\n",
       " 'Clostridium IV',\n",
       " 'Clostridium IV',\n",
       " 'Clostridium XlVa',\n",
       " 'Erysipelotrichaceae_incertae_sedis',\n",
       " 'Faecalicoccus',\n",
       " 'Lachnospiracea_incertae_sedis',\n",
       " 'Clostridium sensu stricto',\n",
       " 'Clostridium sensu stricto',\n",
       " 'Hathewaya',\n",
       " 'Hathewaya',\n",
       " 'Sinomonas',\n",
       " 'Spartobacteria_genera_incertae_sedis',\n",
       " 'Acidobacterium',\n",
       " 'Gp15',\n",
       " 'Komagataeibacter',\n",
       " 'Streptomyces',\n",
       " 'Streptomyces',\n",
       " 'Pseudomonas',\n",
       " 'Desulfovibrio',\n",
       " 'Salmonella',\n",
       " 'Staphylococcus',\n",
       " 'Fusobacterium',\n",
       " 'Streptomyces',\n",
       " 'Mycobacterium',\n",
       " 'Mycobacterium',\n",
       " 'Bifidobacterium',\n",
       " 'Photorhabdus',\n",
       " 'Pectobacterium',\n",
       " 'Mobiluncus',\n",
       " 'Beijerinckia',\n",
       " 'Treponema',\n",
       " 'Morganella',\n",
       " 'Pseudomonas',\n",
       " 'Saccharopolyspora',\n",
       " 'Fusobacterium',\n",
       " 'Staphylococcus',\n",
       " 'Cronobacter',\n",
       " 'Fusobacterium',\n",
       " 'Fusobacterium',\n",
       " 'Roseomonas',\n",
       " 'Xanthomonas',\n",
       " 'Streptomyces',\n",
       " 'Oceanospirillum',\n",
       " 'Streptomyces',\n",
       " 'Streptomyces',\n",
       " 'Legionella',\n",
       " 'Aeromonas',\n",
       " 'Streptomyces',\n",
       " 'Lactobacillus',\n",
       " 'Polynucleobacter',\n",
       " 'Campylobacter',\n",
       " 'Staphylococcus',\n",
       " 'Streptomyces',\n",
       " 'Lactobacillus',\n",
       " 'Mycobacterium',\n",
       " 'Clavibacter',\n",
       " 'Photorhabdus',\n",
       " 'Lonsdalea',\n",
       " 'Staphylococcus',\n",
       " 'Nonomuraea',\n",
       " 'Actinomadura',\n",
       " 'Aeromonas',\n",
       " 'Syntrophomonas',\n",
       " 'Syntrophomonas',\n",
       " 'Streptomyces',\n",
       " 'Achromobacter',\n",
       " 'Salmonella',\n",
       " 'Leucobacter',\n",
       " 'Paenibacillus',\n",
       " 'Fusobacterium',\n",
       " 'Fusobacterium',\n",
       " 'Francisella',\n",
       " 'Lactobacillus',\n",
       " 'Lactobacillus',\n",
       " 'Leuconostoc',\n",
       " 'Desulfovibrio',\n",
       " 'Pasteurella',\n",
       " 'Streptococcus',\n",
       " 'Lactococcus',\n",
       " 'Legionella',\n",
       " 'Clavibacter',\n",
       " 'Gordonia',\n",
       " 'Streptomyces',\n",
       " 'Streptomyces',\n",
       " 'Streptomyces',\n",
       " 'Alicyclobacillus',\n",
       " 'Salmonella',\n",
       " 'Acidovorax',\n",
       " 'Fusobacterium',\n",
       " 'Streptococcus',\n",
       " 'Pseudomonas',\n",
       " 'Pseudoalteromonas',\n",
       " 'Lactobacillus',\n",
       " 'Clostridium III',\n",
       " 'Pasteurella',\n",
       " 'Legionella',\n",
       " 'Treponema',\n",
       " 'Actinosynnema',\n",
       " 'Clavibacter',\n",
       " 'Streptomyces',\n",
       " 'Bartonella',\n",
       " 'Gp17',\n",
       " 'Gp22',\n",
       " 'Desulfovibrio',\n",
       " 'Cellvibrio',\n",
       " 'Streptococcus',\n",
       " 'Lactobacillus',\n",
       " 'Campylobacter',\n",
       " 'Mycoplasma',\n",
       " 'Lactococcus',\n",
       " 'Streptomyces',\n",
       " 'Lonsdalea',\n",
       " 'Sphingobium',\n",
       " 'Photobacterium',\n",
       " 'GpIIa',\n",
       " 'Lactobacillus',\n",
       " 'Staphylococcus',\n",
       " 'Beijerinckia',\n",
       " 'Corynebacterium',\n",
       " 'Streptomyces',\n",
       " 'Aeromonas',\n",
       " 'Staphylococcus',\n",
       " 'Agromyces',\n",
       " 'Beijerinckia',\n",
       " 'Peptostreptococcaceae_incertae_sedis',\n",
       " 'Peptostreptococcaceae_incertae_sedis',\n",
       " 'Klebsiella',\n",
       " 'Streptomyces',\n",
       " 'Alcaligenes',\n",
       " 'Mobiluncus',\n",
       " 'Photorhabdus',\n",
       " 'Beijerinckia',\n",
       " 'Halanaerobium',\n",
       " 'Listeria',\n",
       " 'Campylobacter',\n",
       " 'Francisella',\n",
       " 'Geobacillus',\n",
       " 'Staphylococcus',\n",
       " 'Anoxybacillus',\n",
       " 'Leuconostoc',\n",
       " 'Ralstonia',\n",
       " 'Ralstonia',\n",
       " 'Brenneria',\n",
       " 'Brenneria',\n",
       " 'Leuconostoc',\n",
       " 'Bacillus',\n",
       " 'Bacillus',\n",
       " 'Bacillus',\n",
       " 'Bacillus',\n",
       " 'Bacillus',\n",
       " 'Spirosoma',\n",
       " 'Streptomyces',\n",
       " 'Bacillus',\n",
       " 'Bacteroides',\n",
       " 'Bacillus',\n",
       " 'Armatimonas/Armatimonadetes_gp1',\n",
       " 'Spartobacteria_genera_incertae_sedis',\n",
       " 'Methanobacterium',\n",
       " 'Arcanobacterium',\n",
       " 'Lactobacillus',\n",
       " 'Thermus',\n",
       " 'GpVI',\n",
       " 'Ectothiorhodospira',\n",
       " 'Desulfovibrio',\n",
       " 'Nocardia',\n",
       " 'Propionispira',\n",
       " 'Methanocorpusculum',\n",
       " 'Bifidobacterium',\n",
       " 'Olleya',\n",
       " 'Fervidobacterium',\n",
       " 'Anaerostipes',\n",
       " 'Desulfococcus',\n",
       " 'Aerococcus',\n",
       " 'Sporomusa',\n",
       " 'Yokenella',\n",
       " 'Nitrosospira',\n",
       " 'Leclercia',\n",
       " 'Cellulomonas',\n",
       " 'Corynebacterium',\n",
       " 'Leptospirillum',\n",
       " 'Nitrosomonas',\n",
       " 'Neisseria',\n",
       " 'Anaeroplasma',\n",
       " 'Mycoplasma',\n",
       " 'Porphyromonas',\n",
       " 'Odoribacter',\n",
       " 'Actinomadura',\n",
       " 'Methanobrevibacter',\n",
       " 'Mycoplasma',\n",
       " 'Mycobacterium',\n",
       " 'Halomonas',\n",
       " 'Eubacterium',\n",
       " 'Mycoplasma',\n",
       " 'Altererythrobacter',\n",
       " 'Azohydromonas',\n",
       " 'Streptomyces',\n",
       " 'Streptomyces',\n",
       " 'Methylobacterium',\n",
       " 'Sphingobacterium',\n",
       " 'Halomonas',\n",
       " 'Haloplanus',\n",
       " 'Amycolatopsis',\n",
       " 'Streptomyces',\n",
       " 'Streptococcus',\n",
       " 'Tepidimicrobium',\n",
       " 'Sulfolobus',\n",
       " 'Neisseria',\n",
       " 'Xanthomonas',\n",
       " 'Bartonella',\n",
       " 'Methanobacterium',\n",
       " 'Bacillus',\n",
       " 'Steroidobacter',\n",
       " 'Alishewanella',\n",
       " 'Nitrosomonas',\n",
       " 'Methanosphaera',\n",
       " 'Pseudomonas',\n",
       " 'Xanthomonas',\n",
       " 'Oceanospirillum',\n",
       " 'Lactobacillus',\n",
       " 'Butyrivibrio',\n",
       " 'Aerococcus',\n",
       " 'Moraxella',\n",
       " 'Roseburia',\n",
       " 'Paenibacillus',\n",
       " 'Acidovorax',\n",
       " 'Flavobacterium',\n",
       " 'Bifidobacterium',\n",
       " 'Angiococcus',\n",
       " 'Streptococcus',\n",
       " 'Thermonema',\n",
       " 'Paenibacillus',\n",
       " 'Dyella',\n",
       " 'Nitrosomonas',\n",
       " 'Vasilyevaea',\n",
       " 'Franconibacter',\n",
       " 'Streptomyces',\n",
       " 'Spiroplasma',\n",
       " 'Lactobacillus',\n",
       " 'Sporomusa',\n",
       " 'Sporohalobacter',\n",
       " 'Mycobacterium',\n",
       " 'Legionella',\n",
       " 'Moraxella',\n",
       " 'Pseudomonas',\n",
       " 'Shewanella',\n",
       " 'Anaerobranca',\n",
       " 'Aquaspirillum',\n",
       " 'Halobacillus',\n",
       " 'Azospirillum',\n",
       " 'Colwellia',\n",
       " 'Leminorella',\n",
       " 'Legionella',\n",
       " 'Bifidobacterium',\n",
       " 'Vibrio',\n",
       " 'Burkholderia',\n",
       " 'Bergeyella',\n",
       " 'Nitrosomonas',\n",
       " 'Selenomonas',\n",
       " 'Selenomonas',\n",
       " 'Alcaligenes',\n",
       " 'Actinomyces',\n",
       " 'Globicatella',\n",
       " 'Heliophilum',\n",
       " 'Methanococcus',\n",
       " 'Flavobacterium',\n",
       " 'Ensifer',\n",
       " 'Tatumella',\n",
       " 'Chlorobaculum',\n",
       " 'Streptococcus',\n",
       " 'Desulfotomaculum',\n",
       " 'Sporomusa',\n",
       " 'Pyrodictium',\n",
       " 'Desulfurococcus',\n",
       " 'Legionella',\n",
       " 'Kineosporia',\n",
       " 'Psychrobacter',\n",
       " 'Syntrophomonas',\n",
       " 'Salmonella',\n",
       " 'Moraxella',\n",
       " 'Burkholderia',\n",
       " 'Halanaerobium',\n",
       " 'Pelistega',\n",
       " 'Fervidobacterium',\n",
       " 'Erwinia',\n",
       " 'Tissierella',\n",
       " 'Sporohalobacter',\n",
       " 'Burkholderia',\n",
       " 'Actinomyces',\n",
       " 'Xanthomonas',\n",
       " 'Xanthomonas',\n",
       " 'Caldanaerobacter',\n",
       " 'Saprospira',\n",
       " 'Spiroplasma',\n",
       " 'Saccharopolyspora',\n",
       " 'Methanococcus',\n",
       " 'Carnobacterium',\n",
       " 'Thermus',\n",
       " 'Nitrosomonas',\n",
       " 'Citrobacter',\n",
       " 'Spirochaeta',\n",
       " 'Lactococcus',\n",
       " 'Pantoea',\n",
       " 'Desulfotomaculum',\n",
       " 'Agromyces',\n",
       " 'Erwinia',\n",
       " 'Angiococcus',\n",
       " 'Lactobacillus',\n",
       " 'Neisseria',\n",
       " 'Halothiobacillus',\n",
       " 'Nitrosomonas',\n",
       " 'Pyrodictium',\n",
       " 'Yersinia',\n",
       " 'Anaerobranca',\n",
       " 'Corynebacterium',\n",
       " 'Neisseria',\n",
       " 'Burkholderia',\n",
       " 'Flavobacterium',\n",
       " 'Heliophilum',\n",
       " 'Xanthomonas',\n",
       " 'Sphingomonas',\n",
       " 'Corynebacterium',\n",
       " 'Bifidobacterium',\n",
       " 'Moraxella',\n",
       " 'Lactobacillus',\n",
       " 'Methanobrevibacter',\n",
       " 'Xanthomonas',\n",
       " 'Haemophilus',\n",
       " 'Neisseria',\n",
       " 'Nitrosomonas',\n",
       " 'Pectinatus',\n",
       " 'Pyrococcus',\n",
       " 'Clostridium sensu stricto',\n",
       " 'Caenimonas',\n",
       " 'Streptomyces',\n",
       " 'Flavobacterium',\n",
       " 'Spiroplasma',\n",
       " 'Moraxella',\n",
       " 'Neisseria',\n",
       " 'Acetobacter',\n",
       " 'Mycoplasma',\n",
       " 'Caldanaerobacter',\n",
       " 'Sporomusa',\n",
       " 'Psychroflexus',\n",
       " 'Aeromonas',\n",
       " 'Acidovorax',\n",
       " 'Actinoalloteichus',\n",
       " 'Bacillus',\n",
       " 'Bacillus',\n",
       " 'Bacillus',\n",
       " 'Bacillus',\n",
       " 'Bacillus',\n",
       " 'Bacillus',\n",
       " 'Bacillus',\n",
       " 'Bacillus',\n",
       " 'Bacillus',\n",
       " 'Bacillus',\n",
       " 'Bacillus',\n",
       " 'Bacillus',\n",
       " 'Pandoraea',\n",
       " 'Paenibacillus',\n",
       " 'Shewanella',\n",
       " 'Marinilactibacillus',\n",
       " 'Volucribacter',\n",
       " 'Leptospira',\n",
       " 'Arcobacter',\n",
       " 'Paenibacillus',\n",
       " 'Chryseobacterium',\n",
       " 'Lactobacillus',\n",
       " 'Labrenzia',\n",
       " 'Francisella',\n",
       " 'Campylobacter',\n",
       " 'Hymenobacter',\n",
       " 'Microbacterium',\n",
       " 'Gordonia',\n",
       " 'Natrialba',\n",
       " 'Helicobacter',\n",
       " 'Wohlfahrtiimonas',\n",
       " 'Pedobacter',\n",
       " 'Algibacter',\n",
       " 'Streptomyces',\n",
       " 'Gordonia',\n",
       " 'Clostridium III',\n",
       " 'Desulfobacterium',\n",
       " 'Halogranum',\n",
       " 'Plasticicumulans',\n",
       " 'Desulfotomaculum',\n",
       " 'Citrobacter',\n",
       " 'Burkholderia',\n",
       " 'Streptomyces',\n",
       " 'Marinobacterium',\n",
       " 'Mycoplasma',\n",
       " 'Thermodesulfobacterium',\n",
       " 'Desulfobacter',\n",
       " 'Desulfotignum',\n",
       " 'Carnobacterium',\n",
       " 'Corynebacterium',\n",
       " 'Paenibacillus',\n",
       " 'Spiroplasma',\n",
       " 'Sporosarcina',\n",
       " 'Simplicispira',\n",
       " 'Exiguobacterium',\n",
       " 'Clostridium sensu stricto',\n",
       " 'Clostridium sensu stricto',\n",
       " 'Streptomyces',\n",
       " 'Salinicola',\n",
       " 'Tenacibaculum',\n",
       " 'Burkholderia',\n",
       " 'Bifidobacterium',\n",
       " 'Nonomuraea',\n",
       " 'Bifidobacterium',\n",
       " 'Aeromonas',\n",
       " 'Amycolatopsis',\n",
       " 'Actinoplanes',\n",
       " 'Pseudoxanthomonas',\n",
       " 'Dorea',\n",
       " 'Clostridium XVIII',\n",
       " 'Microbacterium',\n",
       " 'Bacillus',\n",
       " 'Methanosarcina',\n",
       " 'Treponema',\n",
       " 'Lactobacillus',\n",
       " 'Eubacterium',\n",
       " 'Mycoplasma',\n",
       " 'Mycoplasma',\n",
       " 'Pseudoalteromonas',\n",
       " 'Streptomyces',\n",
       " 'Streptomyces',\n",
       " 'Salegentibacter',\n",
       " 'Trabulsiella',\n",
       " 'Streptomyces',\n",
       " 'Bacillus',\n",
       " 'Halorhodospira',\n",
       " 'Diaphorobacter',\n",
       " 'Exiguobacterium',\n",
       " 'Asticcacaulis',\n",
       " 'Kiloniella',\n",
       " 'Kushneria',\n",
       " 'Chitinibacter',\n",
       " 'Actinomycetospora',\n",
       " 'Mycobacterium',\n",
       " 'Anaerostipes',\n",
       " 'Flavitalea',\n",
       " 'Flavobacterium',\n",
       " 'Nitrosospira',\n",
       " 'Youngiibacter',\n",
       " 'Heliorestis',\n",
       " 'Amycolatopsis',\n",
       " 'Acetohalobium',\n",
       " 'Mycoplasma',\n",
       " 'Glaciecola',\n",
       " 'Megasphaera',\n",
       " 'Halalkalicoccus',\n",
       " 'Streptomyces',\n",
       " 'Streptomyces',\n",
       " 'Clostridium XlVa',\n",
       " 'Rummeliibacillus',\n",
       " 'Flectobacillus',\n",
       " 'Gemella',\n",
       " 'Idiomarina',\n",
       " 'Chryseobacterium',\n",
       " 'Belliella',\n",
       " 'Acidothermus',\n",
       " 'Rhodoblastus',\n",
       " 'Meiothermus',\n",
       " 'Enterococcus',\n",
       " 'Gordonia',\n",
       " 'Desulfuromonas',\n",
       " 'Agrococcus',\n",
       " 'Photobacterium',\n",
       " 'Chryseobacterium',\n",
       " 'Sphingobacterium',\n",
       " 'Pilimelia',\n",
       " 'Pedobacter',\n",
       " 'Acetobacter',\n",
       " 'Solimonas',\n",
       " 'Gemmobacter',\n",
       " 'Aeromonas',\n",
       " 'Paracoccus',\n",
       " 'Streptoalloteichus',\n",
       " 'Asaia',\n",
       " 'Variovorax',\n",
       " 'Methylophaga',\n",
       " 'Flavobacterium',\n",
       " 'Sphingobium',\n",
       " 'Lactobacillus',\n",
       " 'Nocardia',\n",
       " 'Alkalimonas',\n",
       " 'Methanofollis',\n",
       " 'Serratia',\n",
       " 'Serratia',\n",
       " 'Rhodococcus',\n",
       " 'Bordetella',\n",
       " 'Eubacterium',\n",
       " 'Deinococcus',\n",
       " 'Aeromicrobium',\n",
       " 'Clostridium XlVa',\n",
       " 'Flammeovirga',\n",
       " 'Streptomyces',\n",
       " 'Chryseobacterium',\n",
       " 'Thermaerobacter',\n",
       " 'Streptomyces',\n",
       " 'Salinicola',\n",
       " 'Streptomyces',\n",
       " 'Streptomyces',\n",
       " 'Ferrimonas',\n",
       " 'Brachybacterium',\n",
       " 'Vogesella',\n",
       " 'Amycolatopsis',\n",
       " 'Parasutterella',\n",
       " 'Asanoa',\n",
       " 'Phenylobacterium',\n",
       " 'Marinospirillum',\n",
       " 'Desulfovibrio',\n",
       " 'Paracoccus',\n",
       " 'Actinomyces',\n",
       " 'Actinoplanes',\n",
       " 'Acinetobacter',\n",
       " 'Chelatococcus',\n",
       " 'Orenia',\n",
       " 'Halobacteroides',\n",
       " 'Methanococcus',\n",
       " 'Butyrivibrio',\n",
       " 'Borrelia',\n",
       " 'Mycoplasma',\n",
       " 'Mycoplasma',\n",
       " 'Microtetraspora',\n",
       " 'Streptosporangium',\n",
       " 'Streptomyces',\n",
       " 'Rhodococcus',\n",
       " 'Leucobacter',\n",
       " 'Arthrobacter',\n",
       " 'Legionella',\n",
       " 'Vibrio',\n",
       " 'Rhodococcus',\n",
       " 'Ureaplasma',\n",
       " 'Chlamydia',\n",
       " 'Fusobacterium',\n",
       " 'Staphylococcus',\n",
       " 'Aequorivita',\n",
       " 'Leptotrichia',\n",
       " 'Syntrophobacter',\n",
       " 'Streptomyces',\n",
       " 'Kitasatospora',\n",
       " 'Marinobacter',\n",
       " 'Halorubrum',\n",
       " 'Yaniella',\n",
       " 'Acholeplasma',\n",
       " 'Acholeplasma',\n",
       " 'Microbacterium',\n",
       " 'Corynebacterium',\n",
       " 'Virgibacillus',\n",
       " 'Halomonas',\n",
       " 'Mycobacterium',\n",
       " 'Pseudoalteromonas',\n",
       " 'Asaia',\n",
       " 'Bacillus',\n",
       " 'Nonlabens',\n",
       " 'Streptomyces',\n",
       " 'Streptomyces',\n",
       " 'Loktanella',\n",
       " 'Bacillus',\n",
       " 'Staphylococcus',\n",
       " 'Actinomyces',\n",
       " 'Acetobacter',\n",
       " 'Acetobacter',\n",
       " 'Actinomadura',\n",
       " 'Aerococcus',\n",
       " 'Winogradskyella',\n",
       " 'Winogradskyella',\n",
       " 'Erythrobacter',\n",
       " 'Dyella',\n",
       " 'Streptococcus',\n",
       " 'Deinococcus',\n",
       " 'Treponema',\n",
       " 'Bacillus',\n",
       " 'Entomoplasma',\n",
       " 'Streptomyces',\n",
       " 'Psychrobacter',\n",
       " 'Clostridium sensu stricto',\n",
       " 'Amycolatopsis',\n",
       " 'Mycobacterium',\n",
       " 'Bacillus',\n",
       " 'Enterococcus',\n",
       " 'Actinomadura',\n",
       " 'Paenibacillus',\n",
       " 'Streptomyces',\n",
       " 'Tenacibaculum',\n",
       " 'Vasilyevaea',\n",
       " 'Mycoplasma',\n",
       " 'GpVIII',\n",
       " 'Caulobacter',\n",
       " 'Streptosporangium',\n",
       " 'Marinobacter',\n",
       " 'Actinomyces',\n",
       " 'Avibacterium',\n",
       " 'Mesorhizobium',\n",
       " 'Prauserella',\n",
       " 'Salmonella',\n",
       " 'Pseudomonas',\n",
       " 'Micrococcus',\n",
       " 'Shewanella',\n",
       " 'Spongiibacter',\n",
       " 'Xanthobacter',\n",
       " 'Microbacterium',\n",
       " 'Amycolatopsis',\n",
       " 'Streptococcus',\n",
       " 'Acidiphilium',\n",
       " 'Vibrio',\n",
       " 'Clostridium III',\n",
       " 'Methylomicrobium',\n",
       " 'Kingella',\n",
       " 'Methanomethylovorans',\n",
       " 'Phyllobacterium',\n",
       " 'Chitinimonas',\n",
       " 'Halolactibacillus',\n",
       " 'Nocardia',\n",
       " 'Lactococcus',\n",
       " 'Halochromatium',\n",
       " 'Shewanella',\n",
       " 'Mesoplasma',\n",
       " 'Lactobacillus',\n",
       " 'Kribbella',\n",
       " 'Microbulbifer',\n",
       " 'Epilithonimonas',\n",
       " 'Fusobacterium',\n",
       " 'Halomonas',\n",
       " 'Cellulomonas',\n",
       " 'Streptomyces',\n",
       " 'Mycobacterium',\n",
       " 'Caulobacter',\n",
       " 'Clostridium XlVa',\n",
       " 'Rhodococcus',\n",
       " 'Micromonospora',\n",
       " 'Saprospira',\n",
       " 'Nocardia',\n",
       " 'Flavobacterium',\n",
       " 'Streptococcus',\n",
       " 'Thermococcus',\n",
       " 'Catellatospora',\n",
       " 'GpVIII',\n",
       " 'Erythrobacter',\n",
       " 'Leclercia',\n",
       " 'Verminephrobacter',\n",
       " 'Streptosporangium',\n",
       " 'Fibrobacter',\n",
       " 'Deinococcus',\n",
       " 'Nocardia',\n",
       " 'Marichromatium',\n",
       " 'Photorhabdus',\n",
       " 'Bacillus',\n",
       " 'Halosimplex',\n",
       " 'Psychrobacter',\n",
       " 'Neisseria',\n",
       " 'Lactobacillus',\n",
       " 'Lactobacillus',\n",
       " 'Paraoerskovia',\n",
       " 'Chryseobacterium',\n",
       " 'Natronorubrum',\n",
       " 'Sulfurimonas',\n",
       " 'Moraxella',\n",
       " 'Streptococcus',\n",
       " 'Lactobacillus',\n",
       " 'Pseudomonas',\n",
       " 'Porphyrobacter',\n",
       " 'Alkalibacterium',\n",
       " 'Streptomyces',\n",
       " 'Novosphingobium',\n",
       " 'Rhodococcus',\n",
       " 'Phyllobacterium',\n",
       " 'Micromonospora',\n",
       " 'Nocardia',\n",
       " 'Nocardia',\n",
       " 'Nocardia',\n",
       " 'Treponema',\n",
       " 'Propionibacterium',\n",
       " 'Lactobacillus',\n",
       " 'Dermacoccus',\n",
       " 'Streptomyces',\n",
       " 'Bacillus',\n",
       " 'Sanguibacter',\n",
       " 'Halobacillus',\n",
       " 'Nocardia',\n",
       " 'Shewanella',\n",
       " 'Pseudoxanthomonas',\n",
       " 'Haloterrigena',\n",
       " 'Natronolimnobius',\n",
       " 'Vibrio',\n",
       " 'Microbacterium',\n",
       " 'Brevundimonas',\n",
       " 'Sphingomonas',\n",
       " 'Petrotoga',\n",
       " 'Planococcus',\n",
       " 'Streptomyces',\n",
       " 'Amycolatopsis',\n",
       " 'Lactobacillus',\n",
       " 'Rhodococcus',\n",
       " 'Kitasatospora',\n",
       " 'Weeksella',\n",
       " 'Komagataeibacter',\n",
       " 'Cellulosilyticum',\n",
       " 'Pediococcus',\n",
       " 'Spirochaeta',\n",
       " 'Steroidobacter',\n",
       " 'Simiduia',\n",
       " 'Streptococcus',\n",
       " 'Yersinia',\n",
       " 'Comamonas',\n",
       " 'GpIIa',\n",
       " 'Vibrio',\n",
       " 'Allokutzneria',\n",
       " 'Colwellia',\n",
       " 'Leifsonia',\n",
       " 'Clostridium sensu stricto',\n",
       " 'Reyranella',\n",
       " 'Streptococcus',\n",
       " 'Streptococcus',\n",
       " 'Sphaerisporangium',\n",
       " 'Kurthia',\n",
       " 'Halococcus',\n",
       " 'Caloramator',\n",
       " 'Gluconobacter',\n",
       " 'Asaia',\n",
       " 'Gluconacetobacter',\n",
       " 'Gluconacetobacter',\n",
       " 'Gluconacetobacter',\n",
       " 'Bifidobacterium',\n",
       " 'Bacillus',\n",
       " 'Oleispira',\n",
       " 'Blastomonas',\n",
       " 'Halomicroarcula',\n",
       " 'Natronoarchaeum',\n",
       " 'Aquibacillus',\n",
       " 'Nocardioides',\n",
       " 'Nocardioides',\n",
       " 'Actinomadura',\n",
       " 'Streptomyces',\n",
       " 'Sinomonas',\n",
       " 'Hymenobacter',\n",
       " 'Hymenobacter',\n",
       " 'Fodinicurvata',\n",
       " 'Pseudomonas',\n",
       " 'Uruburuella',\n",
       " 'Streptophyta',\n",
       " 'Streptomyces',\n",
       " 'Nocardia',\n",
       " 'Roseovarius',\n",
       " 'Massilia',\n",
       " 'Campylobacter',\n",
       " 'Asaia',\n",
       " 'Pelotomaculum',\n",
       " 'Providencia',\n",
       " 'Gracilibacillus',\n",
       " 'Leptospira',\n",
       " 'Exiguobacterium',\n",
       " 'Micromonospora',\n",
       " 'Micromonospora',\n",
       " 'Lysobacter',\n",
       " 'Streptomyces',\n",
       " 'Streptomyces',\n",
       " 'Streptomyces',\n",
       " 'Streptomyces',\n",
       " 'Streptomyces',\n",
       " 'Streptomyces',\n",
       " 'Streptomyces',\n",
       " 'Streptomyces',\n",
       " 'Streptomyces',\n",
       " 'Streptomyces',\n",
       " 'Tetragenococcus',\n",
       " 'Deinococcus',\n",
       " 'Pseudomonas',\n",
       " 'Methanoculleus',\n",
       " 'Alteromonas',\n",
       " 'Alteromonas',\n",
       " 'Marinobacterium',\n",
       " 'Thiohalomonas',\n",
       " 'Brevibacillus',\n",
       " 'Bacillus',\n",
       " 'Streptomyces',\n",
       " 'Pseudonocardia',\n",
       " 'Thermohydrogenium',\n",
       " 'Geobacillus',\n",
       " 'Legionella',\n",
       " 'Pseudomonas',\n",
       " 'Arcicella',\n",
       " 'Oceanicola',\n",
       " 'Rhizobium',\n",
       " ...]"
      ]
     },
     "execution_count": 21,
     "metadata": {},
     "output_type": "execute_result"
    }
   ],
   "source": [
    "labelList"
   ]
  },
  {
   "cell_type": "code",
   "execution_count": null,
   "metadata": {
    "collapsed": true
   },
   "outputs": [],
   "source": []
  }
 ],
 "metadata": {
  "kernelspec": {
   "display_name": "Python 2",
   "language": "python",
   "name": "python2"
  },
  "language_info": {
   "codemirror_mode": {
    "name": "ipython",
    "version": 2
   },
   "file_extension": ".py",
   "mimetype": "text/x-python",
   "name": "python",
   "nbconvert_exporter": "python",
   "pygments_lexer": "ipython2",
   "version": "2.7.9"
  },
  "latex_envs": {
   "bibliofile": "biblio.bib",
   "cite_by": "apalike",
   "current_citInitial": 1,
   "eqLabelWithNumbers": true,
   "eqNumInitial": 0
  }
 },
 "nbformat": 4,
 "nbformat_minor": 0
}
